{
 "cells": [
  {
   "cell_type": "code",
   "execution_count": 1,
   "id": "87d29081",
   "metadata": {},
   "outputs": [
    {
     "name": "stderr",
     "output_type": "stream",
     "text": [
      "Matplotlib is building the font cache; this may take a moment.\n"
     ]
    },
    {
     "ename": "ModuleNotFoundError",
     "evalue": "No module named 'seaborn'",
     "output_type": "error",
     "traceback": [
      "\u001b[0;31m---------------------------------------------------------------------------\u001b[0m",
      "\u001b[0;31mModuleNotFoundError\u001b[0m                       Traceback (most recent call last)",
      "Cell \u001b[0;32mIn[1], line 10\u001b[0m\n\u001b[1;32m      8\u001b[0m \u001b[38;5;28;01mimport\u001b[39;00m \u001b[38;5;21;01mmatplotlib\u001b[39;00m\u001b[38;5;21;01m.\u001b[39;00m\u001b[38;5;21;01mpyplot\u001b[39;00m \u001b[38;5;28;01mas\u001b[39;00m \u001b[38;5;21;01mplt\u001b[39;00m\n\u001b[1;32m      9\u001b[0m \u001b[38;5;28;01mimport\u001b[39;00m \u001b[38;5;21;01mpandas\u001b[39;00m \u001b[38;5;28;01mas\u001b[39;00m \u001b[38;5;21;01mpd\u001b[39;00m\n\u001b[0;32m---> 10\u001b[0m \u001b[38;5;28;01mimport\u001b[39;00m \u001b[38;5;21;01mseaborn\u001b[39;00m \u001b[38;5;28;01mas\u001b[39;00m \u001b[38;5;21;01msns\u001b[39;00m\n\u001b[1;32m     11\u001b[0m \u001b[38;5;28;01mfrom\u001b[39;00m \u001b[38;5;21;01mscipy\u001b[39;00m\u001b[38;5;21;01m.\u001b[39;00m\u001b[38;5;21;01mstats\u001b[39;00m \u001b[38;5;28;01mimport\u001b[39;00m chi2_contingency,chi2\n\u001b[1;32m     12\u001b[0m \u001b[38;5;66;03m#import warnings to avoid warnings\u001b[39;00m\n",
      "\u001b[0;31mModuleNotFoundError\u001b[0m: No module named 'seaborn'"
     ]
    }
   ],
   "source": [
    "# import libereries\n",
    "import os \n",
    "import json,pickle\n",
    "import numpy as np \n",
    "from sklearn.pipeline import Pipeline\n",
    "\n",
    "# import  libereries for braries for data structuring and analysis(data visualization)\n",
    "import matplotlib.pyplot as plt\n",
    "import pandas as pd\n",
    "import seaborn as sns\n",
    "from scipy.stats import chi2_contingency,chi2\n",
    "#import warnings to avoid warnings\n",
    "import warnings\n",
    "warnings.filterwarnings('ignore')\n",
    "\n",
    "# importing encoders\n",
    "from sklearn.preprocessing import OrdinalEncoder,OneHotEncoder,LabelEncoder, StandardScaler\n",
    "from sklearn.impute import SimpleImputer\n",
    "# importing randomised cross validation and train test split\n",
    "from sklearn.model_selection import train_test_split,KFold,cross_val_score,RandomizedSearchCV\n",
    "from sklearn.compose import ColumnTransformer \n",
    "from sklearn.preprocessing import FunctionTransformer\n",
    "from sklearn.preprocessing import PowerTransformer\n",
    "from sklearn.preprocessing import KBinsDiscretizer \n",
    "# importing Models\n",
    "from sklearn.linear_model import LogisticRegression\n",
    "from sklearn.ensemble import RandomForestClassifier\n",
    "#from xgboost import XGBClassifier as xgb\n",
    "from sklearn.feature_selection import SelectKBest, chi2\n",
    "# importing performance matrixes\n",
    "from sklearn.metrics import accuracy_score, precision_score, recall_score, f1_score, roc_auc_score,roc_curve\n",
    "from sklearn.metrics import classification_report\n",
    "\n",
    "from sklearn.metrics import confusion_matrix\n",
    "\n",
    "# importing SMOTENN to resample data(balancing the data)\n",
    "#from imblearn.combine import SMOTEENN\n",
    "\n",
    "# setting to display max columns \n",
    "pd.set_option(\"display.max_columns\",None)\n"
   ]
  },
  {
   "cell_type": "code",
   "execution_count": 2,
   "id": "708454e7",
   "metadata": {},
   "outputs": [
    {
     "name": "stdout",
     "output_type": "stream",
     "text": [
      "\u001b[33mWARNING: Retrying (Retry(total=4, connect=None, read=None, redirect=None, status=None)) after connection broken by 'NewConnectionError('<pip._vendor.urllib3.connection.HTTPSConnection object at 0xedcaf3b8>: Failed to establish a new connection: [Errno 7] No address associated with hostname')': /simple/seaborn/\u001b[0m\n",
      "\u001b[33mWARNING: Retrying (Retry(total=3, connect=None, read=None, redirect=None, status=None)) after connection broken by 'NewConnectionError('<pip._vendor.urllib3.connection.HTTPSConnection object at 0xedcaf280>: Failed to establish a new connection: [Errno 7] No address associated with hostname')': /simple/seaborn/\u001b[0m\n",
      "\u001b[33mWARNING: Retrying (Retry(total=2, connect=None, read=None, redirect=None, status=None)) after connection broken by 'NewConnectionError('<pip._vendor.urllib3.connection.HTTPSConnection object at 0xedcaf178>: Failed to establish a new connection: [Errno 7] No address associated with hostname')': /simple/seaborn/\u001b[0m\n",
      "\u001b[33mWARNING: Retrying (Retry(total=1, connect=None, read=None, redirect=None, status=None)) after connection broken by 'NewConnectionError('<pip._vendor.urllib3.connection.HTTPSConnection object at 0xedcaf880>: Failed to establish a new connection: [Errno 7] No address associated with hostname')': /simple/seaborn/\u001b[0m\n",
      "\u001b[33mWARNING: Retrying (Retry(total=0, connect=None, read=None, redirect=None, status=None)) after connection broken by 'NewConnectionError('<pip._vendor.urllib3.connection.HTTPSConnection object at 0xedcaf958>: Failed to establish a new connection: [Errno 7] No address associated with hostname')': /simple/seaborn/\u001b[0m\n",
      "\u001b[31mERROR: Could not find a version that satisfies the requirement seaborn (from versions: none)\u001b[0m\n",
      "\u001b[31mERROR: No matching distribution found for seaborn\u001b[0m\n",
      "Note: you may need to restart the kernel to use updated packages.\n"
     ]
    }
   ],
   "source": [
    "pip install seaborn "
   ]
  },
  {
   "cell_type": "code",
   "execution_count": 4,
   "id": "677d8e2d",
   "metadata": {},
   "outputs": [],
   "source": [
    "data=pd.read_csv('bank.csv',delimiter =';')\n",
    "data.head()"
   ]
  },
  {
   "cell_type": "code",
   "execution_count": null,
   "id": "1fcb3046",
   "metadata": {},
   "outputs": [],
   "source": [
    "data=data.drop(['contact', 'day', 'poutcome'], axis=1)\n",
    "data.head()"
   ]
  },
  {
   "cell_type": "code",
   "execution_count": null,
   "id": "b545bfd0",
   "metadata": {},
   "outputs": [],
   "source": [
    "for i in data.columns:\n",
    "    data[i]=np.where(data[i]==\"unknown\",np.nan,data[i])\n",
    "    \n",
    "data.isnull().sum()"
   ]
  },
  {
   "cell_type": "code",
   "execution_count": null,
   "id": "907d52c0",
   "metadata": {},
   "outputs": [],
   "source": []
  },
  {
   "cell_type": "code",
   "execution_count": null,
   "id": "090a6bf3",
   "metadata": {},
   "outputs": [],
   "source": [
    "data.head()"
   ]
  },
  {
   "cell_type": "code",
   "execution_count": null,
   "id": "f75bfc0b",
   "metadata": {},
   "outputs": [],
   "source": [
    "# numerical data\n",
    "num_data=data.select_dtypes(exclude='object')\n",
    "num_data.head()"
   ]
  },
  {
   "cell_type": "code",
   "execution_count": null,
   "id": "e8464241",
   "metadata": {},
   "outputs": [],
   "source": [
    "X_train, X_test, y_train, y_test =train_test_split (data.drop('y',axis=1),data[['y']], test_size=0.2,random_state=42)\n",
    "X_train.shape, X_test.shape "
   ]
  },
  {
   "cell_type": "code",
   "execution_count": null,
   "id": "c1ade1d8",
   "metadata": {},
   "outputs": [],
   "source": [
    "X_train.head() "
   ]
  },
  {
   "cell_type": "code",
   "execution_count": null,
   "id": "44d4da8f",
   "metadata": {},
   "outputs": [],
   "source": [
    "(X_train.age).plot()"
   ]
  },
  {
   "cell_type": "code",
   "execution_count": null,
   "id": "185cdfd2",
   "metadata": {},
   "outputs": [],
   "source": [
    "X_train"
   ]
  },
  {
   "cell_type": "code",
   "execution_count": null,
   "id": "de8a12d0",
   "metadata": {},
   "outputs": [],
   "source": [
    "y_train_labeled=LabelEncoder().fit_transform(y_train)\n",
    "y_train_labeled"
   ]
  },
  {
   "cell_type": "code",
   "execution_count": null,
   "id": "dbc3aca6",
   "metadata": {},
   "outputs": [],
   "source": [
    "y_test_labeled=LabelEncoder().fit_transform(y_test) \n",
    "y_test_labeled"
   ]
  },
  {
   "cell_type": "code",
   "execution_count": null,
   "id": "5265b2b8",
   "metadata": {},
   "outputs": [],
   "source": [
    "len(data.job.unique()) "
   ]
  },
  {
   "cell_type": "code",
   "execution_count": null,
   "id": "a85fa9ef",
   "metadata": {},
   "outputs": [],
   "source": [
    "#imputation\n",
    "# Imputation\n",
    "trf1=ColumnTransformer([('impute_job',SimpleImputer(strategy='most_frequent' ), [1]) ,('impute_edu',SimpleImputer(strategy='most_frequent'), [3])],remainder='passthrough')\n"
   ]
  },
  {
   "cell_type": "code",
   "execution_count": null,
   "id": "9ee4f95d",
   "metadata": {},
   "outputs": [],
   "source": [
    "# Oridinal Encoding \n",
    "trf2=ColumnTransformer([('ord_martial_education_default_housing_loan',OrdinalEncoder(categories=[['single','married', 'divorced'], ['primary','secondary', 'tertiary'], ['no', 'yes'], ['no', 'yes'], ['no', 'yes']],dtype=int),[3,1,4,6,7])],remainder ='passthrough') "
   ]
  },
  {
   "cell_type": "code",
   "execution_count": null,
   "id": "1f600dfd",
   "metadata": {},
   "outputs": [],
   "source": [
    "#OneHotEncoding\n",
    "trf3=ColumnTransformer([('ohe_job_month',OneHotEncoder(sparse=False,handle_unknown='ignore', dtype=int,drop='first'), [5, 8])],remainder='passthrough')"
   ]
  },
  {
   "cell_type": "code",
   "execution_count": null,
   "id": "75ea2b9c",
   "metadata": {},
   "outputs": [],
   "source": []
  },
  {
   "cell_type": "code",
   "execution_count": null,
   "id": "6e009730",
   "metadata": {},
   "outputs": [],
   "source": [
    "#Scaling\n",
    "trf4=ColumnTransformer([('Power_transform', PowerTransformer(),[26,27,28,29,30,31])], remainder='passthrough' )"
   ]
  },
  {
   "cell_type": "code",
   "execution_count": null,
   "id": "39fe2c8a",
   "metadata": {},
   "outputs": [],
   "source": []
  },
  {
   "cell_type": "code",
   "execution_count": null,
   "id": "620f878b",
   "metadata": {},
   "outputs": [],
   "source": [
    "#Feature Selection\n",
    "trf5=SelectKBest(score_func=chi2,k=30)"
   ]
  },
  {
   "cell_type": "code",
   "execution_count": null,
   "id": "09d89f50",
   "metadata": {},
   "outputs": [],
   "source": [
    "# train model\n",
    "trf6=RandomForestClassifier() "
   ]
  },
  {
   "cell_type": "code",
   "execution_count": null,
   "id": "40668503",
   "metadata": {},
   "outputs": [],
   "source": [
    "pipe=Pipeline([('trf1', trf1),('trf2', trf2), ('trf3', trf3), ('trf4', trf4),\n",
    "               ('trf6', trf6) ])\n"
   ]
  },
  {
   "cell_type": "code",
   "execution_count": null,
   "id": "d21c2c7e",
   "metadata": {},
   "outputs": [],
   "source": [
    "trf7=LogisticRegression() "
   ]
  },
  {
   "cell_type": "code",
   "execution_count": null,
   "id": "da740840",
   "metadata": {},
   "outputs": [],
   "source": [
    "pipe1=Pipeline([('trf1', trf1),('trf2', trf2), ('trf3', trf3), ('trf4', trf4),\n",
    "               ('trf7', trf7) ])\n"
   ]
  },
  {
   "cell_type": "code",
   "execution_count": null,
   "id": "61dd37ca",
   "metadata": {},
   "outputs": [],
   "source": [
    "# Display Pipeline\n",
    "from sklearn import set_config\n",
    "set_config(display='diagram') "
   ]
  },
  {
   "cell_type": "code",
   "execution_count": null,
   "id": "46231400",
   "metadata": {
    "scrolled": false
   },
   "outputs": [],
   "source": [
    "pipe.fit(X_train,y_train_labeled)"
   ]
  },
  {
   "cell_type": "code",
   "execution_count": null,
   "id": "e8f5c243",
   "metadata": {},
   "outputs": [],
   "source": [
    "pipe1.fit(X_train,y_train_labeled) "
   ]
  },
  {
   "cell_type": "code",
   "execution_count": null,
   "id": "a5208822",
   "metadata": {},
   "outputs": [],
   "source": [
    "pred_lr=pipe1.predict(X_test) \n",
    "pred_lr"
   ]
  },
  {
   "cell_type": "code",
   "execution_count": null,
   "id": "a990e87c",
   "metadata": {},
   "outputs": [],
   "source": [
    "print(classification_report(y_test_labeled,pred_lr,target_names=['no', 'yes'])) "
   ]
  },
  {
   "cell_type": "code",
   "execution_count": null,
   "id": "e91fd913",
   "metadata": {},
   "outputs": [],
   "source": [
    "confusion_matrix(y_test_labeled, pred_lr, labels=[0, 1]) "
   ]
  },
  {
   "cell_type": "code",
   "execution_count": null,
   "id": "5ae3a099",
   "metadata": {},
   "outputs": [],
   "source": [
    "pred=pipe.predict(X_test)\n",
    "pred"
   ]
  },
  {
   "cell_type": "code",
   "execution_count": null,
   "id": "3bd8c2ed",
   "metadata": {},
   "outputs": [],
   "source": [
    "print(classification_report(y_test_labeled, pred, target_names=['no', 'yes'] ) ) "
   ]
  },
  {
   "cell_type": "code",
   "execution_count": null,
   "id": "9cd16e7c",
   "metadata": {},
   "outputs": [],
   "source": []
  },
  {
   "cell_type": "code",
   "execution_count": null,
   "id": "0624084e",
   "metadata": {},
   "outputs": [],
   "source": [
    "confusion_matrix(y_test_labeled, pred, labels=[0, 1]) "
   ]
  },
  {
   "cell_type": "code",
   "execution_count": null,
   "id": "f907a36b",
   "metadata": {},
   "outputs": [],
   "source": [
    "print('mean score of logistics  model  ={}'.format(np.mean(cross_val_score(pipe1,X_train,y_train_labeled, cv=10,scoring='accuracy')))) "
   ]
  },
  {
   "cell_type": "code",
   "execution_count": null,
   "id": "33b200c3",
   "metadata": {},
   "outputs": [],
   "source": [
    "print('mean score of random forest model  ={}'.format(np.mean(cross_val_score(pipe,X_train,y_train_labeled, cv=10,scoring='accuracy')))) "
   ]
  },
  {
   "cell_type": "code",
   "execution_count": null,
   "id": "e7c441da",
   "metadata": {},
   "outputs": [],
   "source": [
    "X_train_impute=pd.DataFrame(trf1.fit_transform(X_train))"
   ]
  },
  {
   "cell_type": "code",
   "execution_count": null,
   "id": "ec096b0e",
   "metadata": {},
   "outputs": [],
   "source": [
    "X_train_ord=pd.DataFrame(trf2.fit_transform(X_train_impute))"
   ]
  },
  {
   "cell_type": "code",
   "execution_count": null,
   "id": "55ae33da",
   "metadata": {},
   "outputs": [],
   "source": [
    "X_train_impute"
   ]
  },
  {
   "cell_type": "code",
   "execution_count": null,
   "id": "180fea6b",
   "metadata": {},
   "outputs": [],
   "source": [
    "X_train_ord"
   ]
  },
  {
   "cell_type": "code",
   "execution_count": null,
   "id": "53e232fc",
   "metadata": {},
   "outputs": [],
   "source": [
    "X_train_ohe=pd.DataFrame(trf3.fit_transform(X_train_ord))\n",
    "X_train_ohe"
   ]
  },
  {
   "cell_type": "code",
   "execution_count": null,
   "id": "ec6c7d2d",
   "metadata": {},
   "outputs": [],
   "source": [
    "ohe=OneHotEncoder(sparse=False, handle_unknown='ignore', dtype=int,drop='first' )\n",
    "ohe.fit_transform(X_train_ord[[5]]).shape"
   ]
  },
  {
   "cell_type": "code",
   "execution_count": null,
   "id": "029bfaa6",
   "metadata": {},
   "outputs": [],
   "source": [
    "X_train_ohe[[26,27,28,29,30,31]]=X_train_ohe[[26, 27,28,29,30,31]].astype(int) \n",
    "X_train_ohe.head()"
   ]
  },
  {
   "cell_type": "code",
   "execution_count": null,
   "id": "db54d479",
   "metadata": {},
   "outputs": [],
   "source": [
    "X_train_func_tran=pd.DataFrame(trf4.fit_transform(X_train_ohe))\n",
    "#X_train_func_tran=X_train_func_tran.drop(4,axis=1)\n",
    "X_train_func_tran "
   ]
  },
  {
   "cell_type": "code",
   "execution_count": null,
   "id": "99518d56",
   "metadata": {},
   "outputs": [],
   "source": [
    "trf6.fit(X_train_func_tran,y_train_labeled) "
   ]
  },
  {
   "cell_type": "code",
   "execution_count": null,
   "id": "6974802e",
   "metadata": {},
   "outputs": [],
   "source": [
    " "
   ]
  },
  {
   "cell_type": "code",
   "execution_count": null,
   "id": "0cd727f3",
   "metadata": {},
   "outputs": [],
   "source": [
    "for i in X_train_func_tran.columns:\n",
    "    print('{}'.format(i)+'=',X_train_func_tran[i].skew())"
   ]
  },
  {
   "cell_type": "code",
   "execution_count": null,
   "id": "11040958",
   "metadata": {},
   "outputs": [],
   "source": [
    "# defining a function to get distribution and outliers\n",
    "def get_distribution(data):\n",
    "    fig, axes = plt.subplots(1, 2, figsize=(16,4))\n",
    "    sns.distplot(data, hist = False,ax = axes[0],color=\"r\")\n",
    "    sns.boxplot(data,ax = axes[1],color=\"g\")\n",
    "    return plt.show()"
   ]
  },
  {
   "cell_type": "code",
   "execution_count": null,
   "id": "562b50af",
   "metadata": {},
   "outputs": [],
   "source": [
    "\n",
    "for i in X_train_func_tran.columns:\n",
    "    get_distribution(X_train_func_tran[i])\n",
    "    "
   ]
  },
  {
   "cell_type": "code",
   "execution_count": null,
   "id": "292bd699",
   "metadata": {},
   "outputs": [],
   "source": [
    "kbins=KBinsDiscretizer(n_bins=7, encode='ordinal',strategy='quantile')\n",
    "trf_Kbins=ColumnTransformer([('binning', kbins,[0])],remainder ='passthrough')\n"
   ]
  },
  {
   "cell_type": "code",
   "execution_count": null,
   "id": "06bfea85",
   "metadata": {},
   "outputs": [],
   "source": [
    "X_train_kbins=pd.DataFrame(trf_Kbins.fit_transform(X_train))\n",
    "\n",
    "X_train_kbins.rename(columns={0:'age_trf'} ,inplace=True)\n",
    "X_train_kbins.head()"
   ]
  },
  {
   "cell_type": "code",
   "execution_count": null,
   "id": "405766e6",
   "metadata": {},
   "outputs": [],
   "source": [
    "age=X_train_kbins['age_trf'] \n",
    "age"
   ]
  },
  {
   "cell_type": "code",
   "execution_count": null,
   "id": "14f91992",
   "metadata": {},
   "outputs": [],
   "source": [
    "X_train_kbins.drop(columns='age_trf', axis=1, inplace=True)\n",
    "X_train_kbins.head() "
   ]
  },
  {
   "cell_type": "code",
   "execution_count": null,
   "id": "2e24748e",
   "metadata": {},
   "outputs": [],
   "source": []
  },
  {
   "cell_type": "code",
   "execution_count": null,
   "id": "e15ef75b",
   "metadata": {},
   "outputs": [],
   "source": [
    "print('mean score of logistics  model  ={}'.format(np.mean(cross_val_score(pipe1,X_train_kbins,y_train_labeled, cv=10,scoring='accuracy')))) "
   ]
  },
  {
   "cell_type": "code",
   "execution_count": null,
   "id": "d4c06aea",
   "metadata": {},
   "outputs": [],
   "source": []
  },
  {
   "cell_type": "code",
   "execution_count": null,
   "id": "6b9fbf91",
   "metadata": {},
   "outputs": [],
   "source": [
    "print('mean score of random forest model  ={}'.format(np.mean(cross_val_score(pipe,X_train_kbins,y_train_labeled, cv=10,scoring='accuracy')))) "
   ]
  },
  {
   "cell_type": "code",
   "execution_count": null,
   "id": "cc19a164",
   "metadata": {},
   "outputs": [],
   "source": [
    "\n",
    "X_train_age_agetrf=pd.concat([X_train.age,X_train_kbins.age_trf],axis=1)\n",
    "\n",
    "\n",
    "X_train_age_agetrf['age_range']= pd.cut(x=X_train['age'],\n",
    "                                    bins=trf_Kbins.named_transformers_['binning'].bin_edges_[0].tolist()) \n",
    "#pd.cut(x=X_train['age'], bins=trf_Kbins.named_transformers_('binning_age').bin_edges_[0].tolist()) \n",
    "X_train_age_agetrf.head()"
   ]
  }
 ],
 "metadata": {
  "kernelspec": {
   "display_name": "Python 3 (ipykernel)",
   "language": "python",
   "name": "python3"
  },
  "language_info": {
   "codemirror_mode": {
    "name": "ipython",
    "version": 3
   },
   "file_extension": ".py",
   "mimetype": "text/x-python",
   "name": "python",
   "nbconvert_exporter": "python",
   "pygments_lexer": "ipython3",
   "version": "3.9.7"
  }
 },
 "nbformat": 4,
 "nbformat_minor": 5
}
